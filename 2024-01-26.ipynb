{
 "cells": [
  {
   "cell_type": "code",
   "execution_count": 3,
   "id": "b38505b8",
   "metadata": {},
   "outputs": [
    {
     "name": "stdout",
     "output_type": "stream",
     "text": [
      "Baekjoon\n",
      "4\n",
      "k\n"
     ]
    }
   ],
   "source": [
    "S = input()\n",
    "i = int(input())\n",
    "\n",
    "print(S[i - 1])"
   ]
  },
  {
   "cell_type": "code",
   "execution_count": 4,
   "id": "e804ee41",
   "metadata": {},
   "outputs": [
    {
     "name": "stdout",
     "output_type": "stream",
     "text": [
      "pulljima\n",
      "8\n"
     ]
    }
   ],
   "source": [
    "word = input()\n",
    "print(len(word))"
   ]
  },
  {
   "cell_type": "code",
   "execution_count": 5,
   "id": "1a12038c",
   "metadata": {},
   "outputs": [
    {
     "name": "stdout",
     "output_type": "stream",
     "text": [
      "3\n",
      "ACDKJFOWIEGHE\n",
      "AE\n",
      "0\n",
      "00\n",
      "AB\n",
      "AB\n"
     ]
    }
   ],
   "source": [
    "T = int(input())\n",
    "\n",
    "for i in range(T):\n",
    "    x = input()\n",
    "    length = len(x)\n",
    "    \n",
    "    print('{0}{1}'.format(x[0], x[length - 1]))"
   ]
  },
  {
   "cell_type": "code",
   "execution_count": 11,
   "id": "748d0aeb",
   "metadata": {},
   "outputs": [
    {
     "name": "stdout",
     "output_type": "stream",
     "text": [
      "z\n",
      "122\n"
     ]
    }
   ],
   "source": [
    "x = input()\n",
    "print(ord(x))"
   ]
  }
 ],
 "metadata": {
  "kernelspec": {
   "display_name": "Python 3 (ipykernel)",
   "language": "python",
   "name": "python3"
  },
  "language_info": {
   "codemirror_mode": {
    "name": "ipython",
    "version": 3
   },
   "file_extension": ".py",
   "mimetype": "text/x-python",
   "name": "python",
   "nbconvert_exporter": "python",
   "pygments_lexer": "ipython3",
   "version": "3.9.12"
  }
 },
 "nbformat": 4,
 "nbformat_minor": 5
}
