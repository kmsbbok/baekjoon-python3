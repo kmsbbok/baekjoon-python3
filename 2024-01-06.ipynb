{
 "cells": [
  {
   "cell_type": "code",
   "execution_count": 8,
   "id": "7c11c7e8",
   "metadata": {},
   "outputs": [
    {
     "name": "stdout",
     "output_type": "stream",
     "text": [
      "23 48\n",
      "23 3\n"
     ]
    }
   ],
   "source": [
    "H, M = map(int, input().split())\n",
    "if 0 <= H <= 23 and 0 <= M <= 59:\n",
    "    if M >= 45:\n",
    "        M = M - 45\n",
    "        print(H, M)\n",
    "    else: \n",
    "        if H != 0:\n",
    "            H = H - 1\n",
    "            M = M + 15\n",
    "            print(H, M)\n",
    "        else:\n",
    "            H = 23\n",
    "            M = M + 15\n",
    "            print(H, M)"
   ]
  },
  {
   "cell_type": "code",
   "execution_count": 16,
   "id": "b09d9555",
   "metadata": {},
   "outputs": [
    {
     "name": "stdout",
     "output_type": "stream",
     "text": [
      "23 48\n",
      "25\n",
      "0 13\n"
     ]
    }
   ],
   "source": [
    "A, B = map(int, input().split())\n",
    "C = int(input())\n",
    "if 0 <= A <= 23 and 0 <= B <= 59 and 0 <= C <= 1000:\n",
    "    if B + C <= 59:\n",
    "        print(A, B + C)\n",
    "    else:\n",
    "        D = (B + C)//60\n",
    "        \n",
    "        if A + D <= 23:\n",
    "            print(A + D, (B + C) % 60)\n",
    "        else:\n",
    "            print(A + D - 24, (B + C) % 60)"
   ]
  }
 ],
 "metadata": {
  "kernelspec": {
   "display_name": "Python 3 (ipykernel)",
   "language": "python",
   "name": "python3"
  },
  "language_info": {
   "codemirror_mode": {
    "name": "ipython",
    "version": 3
   },
   "file_extension": ".py",
   "mimetype": "text/x-python",
   "name": "python",
   "nbconvert_exporter": "python",
   "pygments_lexer": "ipython3",
   "version": "3.9.12"
  }
 },
 "nbformat": 4,
 "nbformat_minor": 5
}
