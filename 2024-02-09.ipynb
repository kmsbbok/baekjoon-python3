{
 "cells": [
  {
   "cell_type": "code",
   "execution_count": 8,
   "id": "9d8936c4",
   "metadata": {},
   "outputs": [
    {
     "name": "stdout",
     "output_type": "stream",
     "text": [
      "9\n",
      "aaa\n",
      "aaazbz\n",
      "babb\n",
      "aazz\n",
      "azbz\n",
      "aabbaa\n",
      "abacc\n",
      "aba\n",
      "zzaz\n",
      "2\n"
     ]
    }
   ],
   "source": [
    "from collections import Counter\n",
    "\n",
    "N = int(input())\n",
    "result = 0\n",
    "\n",
    "for i in range(N):\n",
    "    word = input()\n",
    "    new_word = [word[0]]\n",
    "    \n",
    "    for j in range(1, len(word)):\n",
    "        if word[j - 1] != word[j]:\n",
    "            new_word.append(word[j])\n",
    "    \n",
    "    counter = Counter(new_word)\n",
    "               \n",
    "    if all(count == 1 for count in counter.values()): \n",
    "        result += 1\n",
    "             \n",
    "print(result)"
   ]
  },
  {
   "cell_type": "code",
   "execution_count": null,
   "id": "e0e92486",
   "metadata": {},
   "outputs": [],
   "source": []
  }
 ],
 "metadata": {
  "kernelspec": {
   "display_name": "Python 3 (ipykernel)",
   "language": "python",
   "name": "python3"
  },
  "language_info": {
   "codemirror_mode": {
    "name": "ipython",
    "version": 3
   },
   "file_extension": ".py",
   "mimetype": "text/x-python",
   "name": "python",
   "nbconvert_exporter": "python",
   "pygments_lexer": "ipython3",
   "version": "3.9.12"
  }
 },
 "nbformat": 4,
 "nbformat_minor": 5
}
