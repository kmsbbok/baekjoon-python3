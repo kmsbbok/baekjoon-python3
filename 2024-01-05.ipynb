{
 "cells": [
  {
   "cell_type": "code",
   "execution_count": 60,
   "id": "daa5b915",
   "metadata": {},
   "outputs": [
    {
     "name": "stdout",
     "output_type": "stream",
     "text": [
      "472\n",
      "385\n",
      "2360\n",
      "3776\n",
      "1416\n",
      "181720\n"
     ]
    }
   ],
   "source": [
    "import math\n",
    "\n",
    "A = int(input())\n",
    "B = int(input())\n",
    "if A >= 100:\n",
    "    if A <= 999:\n",
    "        if B >= 100:\n",
    "            if B <= 999:\n",
    "                print(A * (B%100%10))\n",
    "                print(A * math.trunc((B%100-B%100%10)/10))\n",
    "                print(A * (B//100))\n",
    "                print(A * B)"
   ]
  },
  {
   "cell_type": "code",
   "execution_count": 70,
   "id": "57e84605",
   "metadata": {},
   "outputs": [
    {
     "name": "stdout",
     "output_type": "stream",
     "text": [
      "77 77 7777\n",
      "7931\n"
     ]
    }
   ],
   "source": [
    "A, B, C = map(int, input().split())\n",
    "if 1 <= A:\n",
    "    if A <= 10**12:\n",
    "        if 1 <= B:\n",
    "            if B <= 10**12:\n",
    "                if 1 <= C:\n",
    "                    if C <= 10**12:\n",
    "                        print(A + B + C)"
   ]
  },
  {
   "cell_type": "code",
   "execution_count": 87,
   "id": "4cbef612",
   "metadata": {},
   "outputs": [
    {
     "name": "stdout",
     "output_type": "stream",
     "text": [
      "\\    /\\\n",
      " )  ( ')\n",
      "(  /  )\n",
      " \\(__)|\n"
     ]
    }
   ],
   "source": [
    "print('\\\\    /\\\\\\n )  ( \\')\\n(  /  )\\n \\\\(__)|')"
   ]
  },
  {
   "cell_type": "code",
   "execution_count": 90,
   "id": "4994c992",
   "metadata": {},
   "outputs": [
    {
     "name": "stdout",
     "output_type": "stream",
     "text": [
      "|\\_/|\n",
      "|q p|   /}\n",
      "( 0 )\"\"\"\\\n",
      "|\"^\"`    |\n",
      "||_/=\\\\__|\n"
     ]
    }
   ],
   "source": [
    "print('|\\\\_/|\\n|q p|   /}\\n( 0 )\\\"\\\"\\\"\\\\\\n|\\\"^\\\"`    |\\n||_/=\\\\\\\\__|')"
   ]
  },
  {
   "cell_type": "code",
   "execution_count": 98,
   "id": "17eabbe1",
   "metadata": {},
   "outputs": [
    {
     "name": "stdout",
     "output_type": "stream",
     "text": [
      "5 5\n",
      "==\n"
     ]
    }
   ],
   "source": [
    "A, B = map(int, input().split())\n",
    "if -10000 <= A <= 10000:\n",
    "    if -10000 <= B <= 10000:\n",
    "        if A < B:\n",
    "            print('<')\n",
    "        if A > B:\n",
    "            print('>')\n",
    "        if A == B:\n",
    "            print('==')"
   ]
  },
  {
   "cell_type": "code",
   "execution_count": 102,
   "id": "94a0f624",
   "metadata": {},
   "outputs": [
    {
     "name": "stdout",
     "output_type": "stream",
     "text": [
      "90\n",
      "A\n"
     ]
    }
   ],
   "source": [
    "x = int(input())\n",
    "if 0 <= x <= 100:\n",
    "    if 90 <= x <= 100:\n",
    "        print('A')\n",
    "    if 80 <= x <= 89:\n",
    "        print('B')\n",
    "    if 70 <= x <= 79:\n",
    "        print('C')\n",
    "    if 60 <= x <= 69:\n",
    "        print('D')\n",
    "    if x < 60:\n",
    "        print('F')"
   ]
  },
  {
   "cell_type": "code",
   "execution_count": 109,
   "id": "95a2e9b1",
   "metadata": {},
   "outputs": [
    {
     "name": "stdout",
     "output_type": "stream",
     "text": [
      "1999\n",
      "0\n"
     ]
    }
   ],
   "source": [
    "year = int(input())\n",
    "if 1 <= year <= 4000:\n",
    "    if (year % 4 == 0 and year % 100 > 0) or year % 400 == 0:\n",
    "        print(1)\n",
    "    else:\n",
    "        print(0)"
   ]
  },
  {
   "cell_type": "code",
   "execution_count": 4,
   "id": "759f5587",
   "metadata": {},
   "outputs": [
    {
     "name": "stdout",
     "output_type": "stream",
     "text": [
      "9\n",
      "-13\n",
      "4\n"
     ]
    }
   ],
   "source": [
    "x = int(input())\n",
    "y = int(input())\n",
    "\n",
    "if -1000 <= x <= 1000 and x != 0 and -1000 <= y <= 1000 and y != 0:\n",
    "    if x > 0 and y > 0:\n",
    "        print(1)\n",
    "    if x < 0 and y > 0:\n",
    "        print(2)\n",
    "    if x < 0 and y < 0:\n",
    "        print(3)\n",
    "    if x > 0 and y < 0:\n",
    "        print(4)"
   ]
  }
 ],
 "metadata": {
  "kernelspec": {
   "display_name": "Python 3 (ipykernel)",
   "language": "python",
   "name": "python3"
  },
  "language_info": {
   "codemirror_mode": {
    "name": "ipython",
    "version": 3
   },
   "file_extension": ".py",
   "mimetype": "text/x-python",
   "name": "python",
   "nbconvert_exporter": "python",
   "pygments_lexer": "ipython3",
   "version": "3.9.12"
  }
 },
 "nbformat": 4,
 "nbformat_minor": 5
}
