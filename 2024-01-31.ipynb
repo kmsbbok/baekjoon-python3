{
 "cells": [
  {
   "cell_type": "code",
   "execution_count": 6,
   "id": "91b78135",
   "metadata": {},
   "outputs": [
    {
     "name": "stdout",
     "output_type": "stream",
     "text": [
      "baekjoon\n",
      "1 0 -1 -1 2 -1 -1 -1 -1 4 3 -1 -1 7 5 -1 -1 -1 -1 -1 -1 -1 -1 -1 -1 -1 "
     ]
    }
   ],
   "source": [
    "import string\n",
    "alphabet_lower = list(string.ascii_lowercase)\n",
    "S = input()\n",
    "\n",
    "for i in range(len(alphabet_lower)):\n",
    "    if alphabet_lower[i] in S:\n",
    "        j = S.index(alphabet_lower[i])\n",
    "        print(j, end = ' ')\n",
    "    else:\n",
    "        print(-1, end = ' ')"
   ]
  },
  {
   "cell_type": "code",
   "execution_count": 2,
   "id": "ddb79ef2",
   "metadata": {},
   "outputs": [
    {
     "name": "stdout",
     "output_type": "stream",
     "text": [
      "2\n",
      "3 ABC\n",
      "AAABBBCCC \n",
      "5 /HTP\n",
      "/////HHHHHTTTTTPPPPP \n"
     ]
    }
   ],
   "source": [
    "T = int(input())\n",
    "\n",
    "for i in range(T):\n",
    "    R, S = input().split()\n",
    "    R = int(R)\n",
    "    \n",
    "    for j in range(len(S)):\n",
    "        print(S[j], end = '')\n",
    "    \n",
    "        for k in range(R - 1):\n",
    "            print(S[j], end = '')\n",
    "            \n",
    "    print(' ')"
   ]
  },
  {
   "cell_type": "code",
   "execution_count": 13,
   "id": "0eb948ba",
   "metadata": {},
   "outputs": [
    {
     "name": "stdout",
     "output_type": "stream",
     "text": [
      "The last character is a blank \n",
      "6\n"
     ]
    }
   ],
   "source": [
    "a = input()\n",
    "a = a.strip()\n",
    "\n",
    "if a.replace(' ', '') == '':\n",
    "    print(0)\n",
    "    \n",
    "else:\n",
    "    print(a.count(' ') + 1)"
   ]
  },
  {
   "cell_type": "code",
   "execution_count": 3,
   "id": "c34a43d8",
   "metadata": {},
   "outputs": [
    {
     "name": "stdout",
     "output_type": "stream",
     "text": [
      "839 237\n",
      "938\n"
     ]
    }
   ],
   "source": [
    "A, B = map(int, input().split())\n",
    "A = (A % 10) * 100 + (A // 10 - A // 100 * 10) * 10 + A // 100\n",
    "B = (B % 10) * 100 + (B // 10 - B // 100 * 10) * 10 + B // 100\n",
    "\n",
    "print(max(A, B))"
   ]
  },
  {
   "cell_type": "code",
   "execution_count": 29,
   "id": "dcfa0bb1",
   "metadata": {},
   "outputs": [
    {
     "name": "stdout",
     "output_type": "stream",
     "text": [
      "UNUCIC\n",
      "36\n"
     ]
    }
   ],
   "source": [
    "word = input()\n",
    "time = 0\n",
    "\n",
    "for i in range(len(word)):\n",
    "    if word[i] == 'A' or word[i] == 'B' or word[i] == 'C':\n",
    "        time += 3\n",
    "        \n",
    "    if word[i] == 'D' or word[i] == 'E' or word[i] == 'F':\n",
    "        time += 4\n",
    "        \n",
    "    if word[i] == 'G' or word[i] == 'H' or word[i] == 'I':\n",
    "        time += 5\n",
    "        \n",
    "    if word[i] == 'J' or word[i] == 'K' or word[i] == 'L':\n",
    "        time += 6\n",
    "        \n",
    "    if word[i] == 'M' or word[i] == 'N' or word[i] == 'O':\n",
    "        time += 7\n",
    "        \n",
    "    if word[i] == 'P' or word[i] == 'Q' or word[i] == 'R' or word[i] == 'S':\n",
    "        time += 8\n",
    "    \n",
    "    if word[i] == 'T' or word[i] == 'U' or word[i] == 'V':\n",
    "        time += 9\n",
    "        \n",
    "    if word[i] == 'W' or word[i] == 'X' or word[i] == 'Y' or word[i] == 'Z':\n",
    "        time += 10\n",
    "    \n",
    "print(time)"
   ]
  }
 ],
 "metadata": {
  "kernelspec": {
   "display_name": "Python 3 (ipykernel)",
   "language": "python",
   "name": "python3"
  },
  "language_info": {
   "codemirror_mode": {
    "name": "ipython",
    "version": 3
   },
   "file_extension": ".py",
   "mimetype": "text/x-python",
   "name": "python",
   "nbconvert_exporter": "python",
   "pygments_lexer": "ipython3",
   "version": "3.9.12"
  }
 },
 "nbformat": 4,
 "nbformat_minor": 5
}
