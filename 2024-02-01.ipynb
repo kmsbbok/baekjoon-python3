{
 "cells": [
  {
   "cell_type": "code",
   "execution_count": null,
   "id": "7f89194a",
   "metadata": {},
   "outputs": [
    {
     "name": "stdout",
     "output_type": "stream",
     "text": [
      "Hello\n",
      "Hello\n",
      "Baekjoon\n",
      "Baekjoon\n",
      "Online Judge\n",
      "Online Judge\n"
     ]
    }
   ],
   "source": [
    "while True:\n",
    "    try:\n",
    "        a = input()\n",
    "        print(a)\n",
    "    except EOFError:\n",
    "        break"
   ]
  },
  {
   "cell_type": "code",
   "execution_count": 2,
   "id": "230fc401",
   "metadata": {},
   "outputs": [
    {
     "name": "stdout",
     "output_type": "stream",
     "text": [
      "         ,r'\"7\n",
      "r`-_   ,'  ,/\n",
      " \\. \". L_r'\n",
      "   `~\\/\n",
      "      |\n",
      "      |\n"
     ]
    }
   ],
   "source": [
    "print('         ,r\\'\\\"7\\nr`-_   ,\\'  ,/\\n \\\\. \\\". L_r\\'\\n   `~\\\\/\\n      |\\n      |')"
   ]
  },
  {
   "cell_type": "code",
   "execution_count": 4,
   "id": "89579901",
   "metadata": {},
   "outputs": [
    {
     "name": "stdout",
     "output_type": "stream",
     "text": [
      "0 1 2 2 2 7\n",
      "1 0 0 0 0 1\n"
     ]
    }
   ],
   "source": [
    "king, queen, look, bishop, knight, pawn = map(int, input().split())\n",
    "king = 1 - king\n",
    "queen = 1 - queen\n",
    "look = 2 - look\n",
    "bishop = 2 - bishop\n",
    "knight = 2 - knight\n",
    "pawn = 8 - pawn\n",
    "\n",
    "print(king, queen, look, bishop, knight, pawn)"
   ]
  },
  {
   "cell_type": "code",
   "execution_count": null,
   "id": "bf4c5a78",
   "metadata": {},
   "outputs": [],
   "source": []
  }
 ],
 "metadata": {
  "kernelspec": {
   "display_name": "Python 3 (ipykernel)",
   "language": "python",
   "name": "python3"
  },
  "language_info": {
   "codemirror_mode": {
    "name": "ipython",
    "version": 3
   },
   "file_extension": ".py",
   "mimetype": "text/x-python",
   "name": "python",
   "nbconvert_exporter": "python",
   "pygments_lexer": "ipython3",
   "version": "3.9.12"
  }
 },
 "nbformat": 4,
 "nbformat_minor": 5
}
