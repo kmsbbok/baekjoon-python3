{
 "cells": [
  {
   "cell_type": "code",
   "execution_count": 1,
   "id": "a922dab7",
   "metadata": {},
   "outputs": [
    {
     "name": "stdout",
     "output_type": "stream",
     "text": [
      "Hello World!\n"
     ]
    }
   ],
   "source": [
    "print('Hello World!')"
   ]
  },
  {
   "cell_type": "code",
   "execution_count": 6,
   "id": "5309a649",
   "metadata": {},
   "outputs": [
    {
     "name": "stdout",
     "output_type": "stream",
     "text": [
      "3 2\n",
      "1\n"
     ]
    }
   ],
   "source": [
    "A, B = map(int, input().split(' '))\n",
    "if 0 < A < 10 :\n",
    "    if 0 < B < 10:\n",
    "        print(A - B)"
   ]
  },
  {
   "cell_type": "code",
   "execution_count": 5,
   "id": "ce2ba878",
   "metadata": {},
   "outputs": [
    {
     "name": "stdout",
     "output_type": "stream",
     "text": [
      "1 2\n",
      "3\n"
     ]
    }
   ],
   "source": [
    "A, B = map(int, input().split(' '))\n",
    "if 0 < A < 10 :\n",
    "    if 0 < B < 10:\n",
    "        sum = A + B\n",
    "        print(sum)"
   ]
  },
  {
   "cell_type": "code",
   "execution_count": 9,
   "id": "7f4e3b59",
   "metadata": {},
   "outputs": [
    {
     "name": "stdout",
     "output_type": "stream",
     "text": [
      "1 2\n",
      "2\n"
     ]
    }
   ],
   "source": [
    "A, B = map(int, input().split(' '))\n",
    "if 0 < A < 10 :\n",
    "    if 0 < B < 10:\n",
    "        print(A * B)"
   ]
  },
  {
   "cell_type": "code",
   "execution_count": 10,
   "id": "533ae756",
   "metadata": {},
   "outputs": [
    {
     "name": "stdout",
     "output_type": "stream",
     "text": [
      "1 3\n",
      "0.3333333333333333\n"
     ]
    }
   ],
   "source": [
    "A, B = map(int, input().split(' '))\n",
    "if 0 < A < 10 :\n",
    "    if 0 < B < 10:\n",
    "        print(A / B)"
   ]
  },
  {
   "cell_type": "code",
   "execution_count": 12,
   "id": "662dae63",
   "metadata": {},
   "outputs": [
    {
     "name": "stdout",
     "output_type": "stream",
     "text": [
      "7 3\n",
      "10\n",
      "4\n",
      "21\n",
      "2\n",
      "1\n"
     ]
    }
   ],
   "source": [
    "A, B = map(int, input().split(' '))\n",
    "if 1 <= A <= 10000:\n",
    "    if 1 <= B <= 10000:\n",
    "        print(A + B)\n",
    "        print(A - B)\n",
    "        print(A * B)\n",
    "        print(A // B)\n",
    "        print(A % B)"
   ]
  },
  {
   "cell_type": "code",
   "execution_count": 35,
   "id": "fdd37c36",
   "metadata": {},
   "outputs": [
    {
     "name": "stdout",
     "output_type": "stream",
     "text": [
      "2541\n",
      "1998\n"
     ]
    }
   ],
   "source": [
    "y = int(input())\n",
    "if 1000 <= y <= 3000:\n",
    "    print(y - 543)"
   ]
  },
  {
   "cell_type": "code",
   "execution_count": 36,
   "id": "d540c9d1",
   "metadata": {},
   "outputs": [
    {
     "name": "stdout",
     "output_type": "stream",
     "text": [
      "joonas\n",
      "joonas??!\n"
     ]
    }
   ],
   "source": [
    "X = str(input())\n",
    "if X.islower():\n",
    "    if len(X) <= 50:\n",
    "        print(f\"{X}??!\")"
   ]
  },
  {
   "cell_type": "code",
   "execution_count": 37,
   "id": "8af69ea3",
   "metadata": {},
   "outputs": [
    {
     "name": "stdout",
     "output_type": "stream",
     "text": [
      "5 8 4\n",
      "1\n",
      "1\n",
      "0\n",
      "0\n"
     ]
    }
   ],
   "source": [
    "A, B, C = map(int, input().split(' '))\n",
    "if 2 <= A <= 10000:\n",
    "    if 2 <= B <= 10000:\n",
    "        if 2 <= C <= 10000:\n",
    "            print((A + B) % C)\n",
    "            print(((A%C)+(B%C))%C)\n",
    "            print((A*B)%C)\n",
    "            print((A%C)*(B%C)%C)"
   ]
  },
  {
   "cell_type": "code",
   "execution_count": null,
   "id": "99677af4",
   "metadata": {},
   "outputs": [],
   "source": [
    "A = int(input())\n",
    "B = int(input())\n",
    "if 100 <= A <= 999:\n",
    "    if 100 <= B <= 999:\n",
    "        \n",
    "        print()\n",
    "        print()\n",
    "        print()\n",
    "        print()"
   ]
  },
  {
   "cell_type": "code",
   "execution_count": 1,
   "id": "bc287218",
   "metadata": {},
   "outputs": [
    {
     "name": "stdout",
     "output_type": "stream",
     "text": [
      "3\n"
     ]
    }
   ],
   "source": [
    "a=[1,2,33]\n",
    "\n",
    "print(len(a))\n"
   ]
  },
  {
   "cell_type": "code",
   "execution_count": null,
   "id": "8e119c50",
   "metadata": {},
   "outputs": [],
   "source": []
  }
 ],
 "metadata": {
  "kernelspec": {
   "display_name": "Python 3 (ipykernel)",
   "language": "python",
   "name": "python3"
  },
  "language_info": {
   "codemirror_mode": {
    "name": "ipython",
    "version": 3
   },
   "file_extension": ".py",
   "mimetype": "text/x-python",
   "name": "python",
   "nbconvert_exporter": "python",
   "pygments_lexer": "ipython3",
   "version": "3.9.12"
  }
 },
 "nbformat": 4,
 "nbformat_minor": 5
}
