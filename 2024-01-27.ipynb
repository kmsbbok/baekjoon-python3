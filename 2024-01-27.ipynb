{
 "cells": [
  {
   "cell_type": "code",
   "execution_count": 9,
   "id": "00194916",
   "metadata": {},
   "outputs": [
    {
     "name": "stdout",
     "output_type": "stream",
     "text": [
      "11\n",
      "10987654321\n",
      "46\n"
     ]
    }
   ],
   "source": [
    "N = int(input())\n",
    "number = int(input())\n",
    "result = 0\n",
    "\n",
    "for i in range(N):\n",
    "    globals()[i] = (number // 10 ** (N - 1 - i)) % 10\n",
    "    result += globals()[i]\n",
    "\n",
    "print(result)"
   ]
  },
  {
   "cell_type": "code",
   "execution_count": 34,
   "id": "3b33ebaf",
   "metadata": {},
   "outputs": [
    {
     "name": "stdout",
     "output_type": "stream",
     "text": [
      "baekjoon\n",
      "0 1 -1 -1 4 -1 -1 -1 -1 9 10 -1 -1 13 14 -1 -1 -1 -1 -1 -1 -1 -1 -1 -1 -1 "
     ]
    }
   ],
   "source": [
    "import string\n",
    "alphabet_lower = list(string.ascii_lowercase)\n",
    "S = input()\n",
    "\n",
    "for j in range(len(alphabet_lower)):\n",
    "    if alphabet_lower[j] in S:\n",
    "        print(j, end = ' ')\n",
    "    else:\n",
    "        print(-1, end = ' ')"
   ]
  }
 ],
 "metadata": {
  "kernelspec": {
   "display_name": "Python 3 (ipykernel)",
   "language": "python",
   "name": "python3"
  },
  "language_info": {
   "codemirror_mode": {
    "name": "ipython",
    "version": 3
   },
   "file_extension": ".py",
   "mimetype": "text/x-python",
   "name": "python",
   "nbconvert_exporter": "python",
   "pygments_lexer": "ipython3",
   "version": "3.9.12"
  }
 },
 "nbformat": 4,
 "nbformat_minor": 5
}
