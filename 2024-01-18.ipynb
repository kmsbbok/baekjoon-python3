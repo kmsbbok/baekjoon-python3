{
 "cells": [
  {
   "cell_type": "code",
   "execution_count": 5,
   "id": "16f3187c",
   "metadata": {},
   "outputs": [
    {
     "name": "stdout",
     "output_type": "stream",
     "text": [
      "6 2 5\n",
      "600\n"
     ]
    }
   ],
   "source": [
    "A, B, C = map(int, input().split())\n",
    "if 1 <= A <= 6 and 1 <= B <= 6 and 1 <= C <= 6:\n",
    "    if A == B or B == C or A == C:\n",
    "        if A == B == C:\n",
    "            print(10000 + A * 1000)\n",
    "        else:\n",
    "            if A == B or A == C:\n",
    "                print(1000 + A * 100)\n",
    "            if B == C:\n",
    "                print(1000 + B * 100)\n",
    "    else:\n",
    "        print(max(A, B, C) * 100)"
   ]
  },
  {
   "cell_type": "code",
   "execution_count": 1,
   "id": "a5c35231",
   "metadata": {},
   "outputs": [
    {
     "name": "stdout",
     "output_type": "stream",
     "text": [
      "2\n",
      "2 * 1 = 2\n",
      "2 * 2 = 4\n",
      "2 * 3 = 6\n",
      "2 * 4 = 8\n",
      "2 * 5 = 10\n",
      "2 * 6 = 12\n",
      "2 * 7 = 14\n",
      "2 * 8 = 16\n",
      "2 * 9 = 18\n"
     ]
    }
   ],
   "source": [
    "N = int(input())\n",
    "if 1 <= N <= 9:\n",
    "    for i in [1, 2, 3, 4, 5, 6, 7, 8, 9]:\n",
    "        print('{0} * {1} = {2}'.format(N, i, N*i))"
   ]
  },
  {
   "cell_type": "code",
   "execution_count": 2,
   "id": "c2343aab",
   "metadata": {},
   "outputs": [
    {
     "name": "stdout",
     "output_type": "stream",
     "text": [
      "5\n",
      "1 1\n",
      "2\n",
      "2 3\n",
      "5\n",
      "3 4\n",
      "7\n",
      "9 8\n",
      "17\n",
      "5 2\n",
      "7\n"
     ]
    }
   ],
   "source": [
    "T = int(input())\n",
    "while True:\n",
    "    A, B = map(int, input().split())\n",
    "    T = T - 1\n",
    "    if 0 < A < 10 and 0 < B < 10:\n",
    "        print(A + B)\n",
    "    if T == 0:\n",
    "        break "
   ]
  }
 ],
 "metadata": {
  "kernelspec": {
   "display_name": "Python 3 (ipykernel)",
   "language": "python",
   "name": "python3"
  },
  "language_info": {
   "codemirror_mode": {
    "name": "ipython",
    "version": 3
   },
   "file_extension": ".py",
   "mimetype": "text/x-python",
   "name": "python",
   "nbconvert_exporter": "python",
   "pygments_lexer": "ipython3",
   "version": "3.9.12"
  }
 },
 "nbformat": 4,
 "nbformat_minor": 5
}
