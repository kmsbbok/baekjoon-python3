{
 "cells": [
  {
   "cell_type": "code",
   "execution_count": 3,
   "id": "aea185db",
   "metadata": {},
   "outputs": [
    {
     "name": "stdout",
     "output_type": "stream",
     "text": [
      "BruteForce 3.0 F\n",
      "Greedy 1.0 F\n",
      "DivideandConquer 2.0 F\n",
      "DynamicProgramming 3.0 F\n",
      "DepthFirstSearch 4.0 F\n",
      "BreadthFirstSearch 3.0 F\n",
      "ShortestPath 4.0 F\n",
      "DisjointSet 2.0 F\n",
      "MinimumSpanningTree 2.0 F\n",
      "TopologicalSorting 1.0 F\n",
      "LeastCommonAncestor 2.0 F\n",
      "SegmentTree 4.0 F\n",
      "EulerTourTechnique 3.0 F\n",
      "StronglyConnectedComponent 2.0 F\n",
      "BipartiteMatching 2.0 F\n",
      "MaximumFlowProblem 3.0 F\n",
      "SuffixArray 1.0 F\n",
      "HeavyLightDecomposition 4.0 F\n",
      "CentroidDecomposition 3.0 F\n",
      "SplayTree 1.0 F\n",
      "0.0\n"
     ]
    }
   ],
   "source": [
    "import re\n",
    "\n",
    "total_grade = 0\n",
    "total_credit = 0\n",
    "\n",
    "for i in range(20):\n",
    "    subject, credit, grade = input().split()\n",
    "    \n",
    "    if grade != 'P':\n",
    "        grade = re.sub('A[+]$', '4.5', grade)\n",
    "        grade = re.sub('A0', '4.0', grade)\n",
    "        grade = re.sub('B[+]$', '3.5', grade)\n",
    "        grade = re.sub('B0', '3.0', grade)\n",
    "        grade = re.sub('C[+]$', '2.5', grade)\n",
    "        grade = re.sub('C0', '2.0', grade)\n",
    "        grade = re.sub('D[+]$', '1.5', grade)\n",
    "        grade = re.sub('D0', '1.0', grade)\n",
    "        grade = re.sub('F', '0.0', grade)\n",
    "        \n",
    "        total_grade += float(credit) * float(grade)\n",
    "        total_credit += float(credit)\n",
    "\n",
    "result = total_grade / total_credit\n",
    "print(result)"
   ]
  },
  {
   "cell_type": "code",
   "execution_count": 15,
   "id": "8b20caf3",
   "metadata": {},
   "outputs": [
    {
     "name": "stdout",
     "output_type": "stream",
     "text": [
      "3 3\n",
      "1 1 1\n",
      "2 2 2\n",
      "0 1 0\n",
      "3 3 3\n",
      "4 4 4\n",
      "5 5 100\n",
      "4 4 4\n",
      "6 6 6\n",
      "5 6 100\n"
     ]
    }
   ],
   "source": [
    "N, M = map(int, input().split())\n",
    "result = []\n",
    "\n",
    "for i in range(2):\n",
    "    for j in range(N):\n",
    "        M_matrix = input().split()\n",
    "        result.append(M_matrix)\n",
    "\n",
    "for k in range(N):\n",
    "    for l in range(M):\n",
    "        if l <= M - 2:\n",
    "            print(int(result[k][l]) + int(result[k + N][l]), end = ' ')\n",
    "            \n",
    "        else:\n",
    "            print(int(result[k][l]) + int(result[k + N][l]))"
   ]
  },
  {
   "cell_type": "code",
   "execution_count": null,
   "id": "7700face",
   "metadata": {},
   "outputs": [],
   "source": []
  }
 ],
 "metadata": {
  "kernelspec": {
   "display_name": "Python 3 (ipykernel)",
   "language": "python",
   "name": "python3"
  },
  "language_info": {
   "codemirror_mode": {
    "name": "ipython",
    "version": 3
   },
   "file_extension": ".py",
   "mimetype": "text/x-python",
   "name": "python",
   "nbconvert_exporter": "python",
   "pygments_lexer": "ipython3",
   "version": "3.9.12"
  }
 },
 "nbformat": 4,
 "nbformat_minor": 5
}
