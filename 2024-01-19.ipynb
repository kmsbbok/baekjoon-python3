{
 "cells": [
  {
   "cell_type": "code",
   "execution_count": 2,
   "id": "fb0028d0",
   "metadata": {},
   "outputs": [
    {
     "name": "stdout",
     "output_type": "stream",
     "text": [
      "3\n",
      "6\n"
     ]
    }
   ],
   "source": [
    "n = int(input())\n",
    "result = 0\n",
    "\n",
    "if 1 <= n <= 10000:\n",
    "    for i in range(n):\n",
    "        i = i + 1\n",
    "        result = result + i\n",
    "    print(result)"
   ]
  },
  {
   "cell_type": "code",
   "execution_count": 2,
   "id": "790c83d9",
   "metadata": {},
   "outputs": [
    {
     "name": "stdout",
     "output_type": "stream",
     "text": [
      "260000\n",
      "4\n",
      "20000 5\n",
      "30000 2\n",
      "10000 6\n",
      "5000 8\n",
      "Yes\n"
     ]
    }
   ],
   "source": [
    "X = int(input())\n",
    "N = int(input())\n",
    "price = 0\n",
    "\n",
    "if 1 <= X <= 1000000000 and 1 <= N <= 100:\n",
    "    for i in range(N):\n",
    "        a, b = map(int, input().split())\n",
    "        price = price + a * b\n",
    "    if 1 <= a <= 1000000 and 1 <= b <= 10:\n",
    "        if X == price:\n",
    "            print('Yes')\n",
    "        else:\n",
    "            print('No')"
   ]
  }
 ],
 "metadata": {
  "kernelspec": {
   "display_name": "Python 3 (ipykernel)",
   "language": "python",
   "name": "python3"
  },
  "language_info": {
   "codemirror_mode": {
    "name": "ipython",
    "version": 3
   },
   "file_extension": ".py",
   "mimetype": "text/x-python",
   "name": "python",
   "nbconvert_exporter": "python",
   "pygments_lexer": "ipython3",
   "version": "3.9.12"
  }
 },
 "nbformat": 4,
 "nbformat_minor": 5
}
