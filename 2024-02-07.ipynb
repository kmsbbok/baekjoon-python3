{
 "cells": [
  {
   "cell_type": "code",
   "execution_count": 7,
   "id": "72880232",
   "metadata": {},
   "outputs": [
    {
     "name": "stdout",
     "output_type": "stream",
     "text": [
      "baekjoon\n",
      "0\n"
     ]
    }
   ],
   "source": [
    "word = input()\n",
    "word_length = len(word)\n",
    "result = []\n",
    "\n",
    "for i in range(word_length):\n",
    "    if word[i] == word[word_length - 1 - i]:\n",
    "        result += '1'\n",
    "        \n",
    "    else:\n",
    "        result += '0'\n",
    "\n",
    "if '0' in result:\n",
    "    print(0)\n",
    "\n",
    "else:\n",
    "    print(1)"
   ]
  },
  {
   "cell_type": "code",
   "execution_count": null,
   "id": "7ecc26ce",
   "metadata": {},
   "outputs": [],
   "source": []
  }
 ],
 "metadata": {
  "kernelspec": {
   "display_name": "Python 3 (ipykernel)",
   "language": "python",
   "name": "python3"
  },
  "language_info": {
   "codemirror_mode": {
    "name": "ipython",
    "version": 3
   },
   "file_extension": ".py",
   "mimetype": "text/x-python",
   "name": "python",
   "nbconvert_exporter": "python",
   "pygments_lexer": "ipython3",
   "version": "3.9.12"
  }
 },
 "nbformat": 4,
 "nbformat_minor": 5
}
