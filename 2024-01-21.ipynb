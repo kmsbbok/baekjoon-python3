{
 "cells": [
  {
   "cell_type": "code",
   "execution_count": 1,
   "id": "1274b84b",
   "metadata": {},
   "outputs": [
    {
     "name": "stdout",
     "output_type": "stream",
     "text": [
      "5\n",
      "1 1\n",
      "2\n",
      "12 34\n",
      "46\n",
      "5 500\n",
      "505\n",
      "40 60\n",
      "100\n",
      "1000 1000\n",
      "2000\n"
     ]
    }
   ],
   "source": [
    "import sys\n",
    "\n",
    "T = int(input())\n",
    "if T <= 1000000:\n",
    "    for i in range(T):\n",
    "        A, B = map(int, input().split())\n",
    "        if 1 <= A <= 1000 and 1 <= B <= 1000:\n",
    "            print(A + B)"
   ]
  },
  {
   "cell_type": "code",
   "execution_count": 2,
   "id": "9e348370",
   "metadata": {},
   "outputs": [
    {
     "name": "stdout",
     "output_type": "stream",
     "text": [
      "5\n",
      "1 1\n",
      "Case #1: 2\n",
      "2 3\n",
      "Case #2: 5\n",
      "3 4\n",
      "Case #3: 7\n",
      "9 8\n",
      "Case #4: 17\n",
      "5 2\n",
      "Case #5: 7\n"
     ]
    }
   ],
   "source": [
    "T = int(input())\n",
    "for i in range(1, T + 1):\n",
    "    A, B = map(int, input().split())\n",
    "    if 0 < A < 10 and 0 < B < 10:\n",
    "        print('Case #{0}: {1}'.format(i, A + B))"
   ]
  },
  {
   "cell_type": "code",
   "execution_count": 3,
   "id": "b6d12d4a",
   "metadata": {},
   "outputs": [
    {
     "name": "stdout",
     "output_type": "stream",
     "text": [
      "5\n",
      "1 1\n",
      "Case #1: 1 + 1 = 2\n",
      "2 3\n",
      "Case #2: 2 + 3 = 5\n",
      "3 4\n",
      "Case #3: 3 + 4 = 7\n",
      "9 8\n",
      "Case #4: 9 + 8 = 17\n",
      "5 2\n",
      "Case #5: 5 + 2 = 7\n"
     ]
    }
   ],
   "source": [
    "T = int(input())\n",
    "case = 1\n",
    "while case <= T:\n",
    "    A, B = map(int, input().split())\n",
    "    if 0 < A < 10 and 0 < B < 10:\n",
    "        print(f'Case #{case}: {A} + {B} = {A + B}')\n",
    "        case = case + 1"
   ]
  },
  {
   "cell_type": "code",
   "execution_count": 10,
   "id": "b2f9026e",
   "metadata": {},
   "outputs": [
    {
     "name": "stdout",
     "output_type": "stream",
     "text": [
      "5\n",
      "*\n",
      "**\n",
      "***\n",
      "****\n",
      "*****\n"
     ]
    }
   ],
   "source": [
    "N = int(input())\n",
    "if 1 <= N <= 100:\n",
    "    for i in range(N):\n",
    "        for j in range(i):\n",
    "            print('*', end  = '')\n",
    "        print('*')"
   ]
  },
  {
   "cell_type": "code",
   "execution_count": 49,
   "id": "7265f291",
   "metadata": {},
   "outputs": [
    {
     "name": "stdout",
     "output_type": "stream",
     "text": [
      "5\n",
      "    *\n",
      "   **\n",
      "  ***\n",
      " ****\n",
      "*****\n"
     ]
    }
   ],
   "source": [
    "N = int(input())\n",
    "if 1 <= N <= 100:\n",
    "    for i in range(N):\n",
    "        for j in range(N - i - 1):\n",
    "            print(' ', end = '')\n",
    "        for k in range(i):\n",
    "            print('*', end = '')\n",
    "        print('*')"
   ]
  },
  {
   "cell_type": "code",
   "execution_count": 54,
   "id": "20d42d19",
   "metadata": {},
   "outputs": [
    {
     "name": "stdout",
     "output_type": "stream",
     "text": [
      "1 1\n",
      "2\n",
      "2 3\n",
      "5\n",
      "3 4\n",
      "7\n",
      "9 8\n",
      "17\n",
      "5 2\n",
      "7\n",
      "0 0\n"
     ]
    }
   ],
   "source": [
    "A, B = map(int, input().split())\n",
    "if 0 < A < 10 and 0 < B < 10:\n",
    "    while A != 0 and B != 0:\n",
    "        print(A + B)\n",
    "        A, B = map(int, input().split())"
   ]
  },
  {
   "cell_type": "code",
   "execution_count": null,
   "id": "e8e0146b",
   "metadata": {},
   "outputs": [
    {
     "name": "stdout",
     "output_type": "stream",
     "text": [
      "1 1\n",
      "2\n",
      "2 3\n",
      "5\n",
      "3 4\n",
      "7\n",
      "9 8\n",
      "17\n",
      "5 2\n",
      "7\n"
     ]
    }
   ],
   "source": [
    "while True:\n",
    "    try:\n",
    "        A, B = map(int, input().split())\n",
    "        print(A + B)\n",
    "    except EOFError:\n",
    "        break"
   ]
  },
  {
   "cell_type": "code",
   "execution_count": 2,
   "id": "f905f46a",
   "metadata": {},
   "outputs": [
    {
     "name": "stdout",
     "output_type": "stream",
     "text": [
      "11\n",
      "1 4 1 2 4 2 4 2 3 4 4\n",
      "5\n",
      "0\n"
     ]
    }
   ],
   "source": [
    "N = int(input())\n",
    "j = list(map(int, input().split())) \n",
    "v = int(input())\n",
    "\n",
    "print(j.count(v))"
   ]
  },
  {
   "cell_type": "code",
   "execution_count": null,
   "id": "042b09e8",
   "metadata": {},
   "outputs": [],
   "source": []
  }
 ],
 "metadata": {
  "kernelspec": {
   "display_name": "Python 3 (ipykernel)",
   "language": "python",
   "name": "python3"
  },
  "language_info": {
   "codemirror_mode": {
    "name": "ipython",
    "version": 3
   },
   "file_extension": ".py",
   "mimetype": "text/x-python",
   "name": "python",
   "nbconvert_exporter": "python",
   "pygments_lexer": "ipython3",
   "version": "3.9.12"
  }
 },
 "nbformat": 4,
 "nbformat_minor": 5
}
