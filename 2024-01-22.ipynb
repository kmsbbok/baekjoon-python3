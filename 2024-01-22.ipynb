{
 "cells": [
  {
   "cell_type": "code",
   "execution_count": 11,
   "id": "fb123168",
   "metadata": {},
   "outputs": [
    {
     "name": "stdout",
     "output_type": "stream",
     "text": [
      "10 5\n",
      "1 10 4 9 2 3 8 5 7 6\n",
      "1 4 2 3 "
     ]
    }
   ],
   "source": [
    "N, X = map(int, input().split())\n",
    "A = map(int, input().split())\n",
    "B = list(A)\n",
    "\n",
    "for i in range(N):\n",
    "    if B[i] < X:\n",
    "        print(B[i], end = ' ')"
   ]
  },
  {
   "cell_type": "code",
   "execution_count": 14,
   "id": "e98bfc5d",
   "metadata": {},
   "outputs": [
    {
     "name": "stdout",
     "output_type": "stream",
     "text": [
      "5\n",
      "20 10 35 30 7\n",
      "7 35\n"
     ]
    }
   ],
   "source": [
    "N = int(input())\n",
    "A = map(int, input().split())\n",
    "array = list(A)\n",
    "\n",
    "print(min(array), max(array))"
   ]
  },
  {
   "cell_type": "code",
   "execution_count": 23,
   "id": "182efaae",
   "metadata": {},
   "outputs": [
    {
     "name": "stdout",
     "output_type": "stream",
     "text": [
      "3\n",
      "29\n",
      "38\n",
      "12\n",
      "57\n",
      "74\n",
      "40\n",
      "85\n",
      "61\n",
      "85\n",
      "8\n"
     ]
    }
   ],
   "source": [
    "Y = []\n",
    "\n",
    "for i in range(9):\n",
    "    X = map(int, input().split('\\n'))\n",
    "    Y += X\n",
    "\n",
    "array = list(Y)\n",
    "print(max(array))\n",
    "print(array.index(max(array)) + 1)"
   ]
  },
  {
   "cell_type": "code",
   "execution_count": null,
   "id": "fa4d4e24",
   "metadata": {},
   "outputs": [],
   "source": []
  }
 ],
 "metadata": {
  "kernelspec": {
   "display_name": "Python 3 (ipykernel)",
   "language": "python",
   "name": "python3"
  },
  "language_info": {
   "codemirror_mode": {
    "name": "ipython",
    "version": 3
   },
   "file_extension": ".py",
   "mimetype": "text/x-python",
   "name": "python",
   "nbconvert_exporter": "python",
   "pygments_lexer": "ipython3",
   "version": "3.9.12"
  }
 },
 "nbformat": 4,
 "nbformat_minor": 5
}
