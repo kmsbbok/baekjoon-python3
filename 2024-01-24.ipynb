{
 "cells": [
  {
   "cell_type": "code",
   "execution_count": 2,
   "id": "a1cf0f7e",
   "metadata": {},
   "outputs": [
    {
     "name": "stdout",
     "output_type": "stream",
     "text": [
      "5 4\n",
      "1 2\n",
      "3 4\n",
      "1 4\n",
      "2 2\n",
      "3 1 4 2 5 "
     ]
    }
   ],
   "source": [
    "N, M = map(int, input().split())\n",
    "basket = []\n",
    "\n",
    "for a in range(N):\n",
    "    basket.append(a + 1)\n",
    "    \n",
    "for b in range(M):\n",
    "    i, j = map(int, input().split())\n",
    "    k = basket[i - 1]\n",
    "    basket[i - 1] = basket[j - 1] \n",
    "    basket[j - 1] = k\n",
    "    \n",
    "for c in range(N):\n",
    "    print(basket[c], end = ' ')"
   ]
  },
  {
   "cell_type": "code",
   "execution_count": 6,
   "id": "646a95d7",
   "metadata": {},
   "outputs": [
    {
     "name": "stdout",
     "output_type": "stream",
     "text": [
      "9\n",
      "30\n",
      "6\n",
      "12\n",
      "10\n",
      "20\n",
      "21\n",
      "11\n",
      "7\n",
      "5\n",
      "28\n",
      "4\n",
      "18\n",
      "29\n",
      "17\n",
      "19\n",
      "27\n",
      "13\n",
      "16\n",
      "26\n",
      "14\n",
      "23\n",
      "22\n",
      "15\n",
      "3\n",
      "1\n",
      "24\n",
      "25\n",
      "2\n",
      "8\n"
     ]
    }
   ],
   "source": [
    "assignment = []\n",
    "\n",
    "for j in range(28):\n",
    "    n = input()\n",
    "    assignment.append(n)\n",
    "    \n",
    "for i in range(30):\n",
    "    if str(i + 1) not in assignment:\n",
    "        print(int(str(i + 1)))"
   ]
  },
  {
   "cell_type": "code",
   "execution_count": 3,
   "id": "4bcac15b",
   "metadata": {},
   "outputs": [
    {
     "name": "stdout",
     "output_type": "stream",
     "text": [
      "39\n",
      "40\n",
      "41\n",
      "42\n",
      "43\n",
      "44\n",
      "82\n",
      "83\n",
      "84\n",
      "85\n",
      "6\n"
     ]
    }
   ],
   "source": [
    "line = []\n",
    "array = []\n",
    "\n",
    "for i in range(10):\n",
    "    x = input()\n",
    "    line.append(x)\n",
    "    \n",
    "for j in range(10):\n",
    "    y = int(line[j]) % 42\n",
    "    array.append(str(y))\n",
    "\n",
    "result = list(set(array))\n",
    "print(len(result))"
   ]
  },
  {
   "cell_type": "code",
   "execution_count": 5,
   "id": "6050c802",
   "metadata": {},
   "outputs": [
    {
     "name": "stdout",
     "output_type": "stream",
     "text": [
      "5 4\n",
      "1 2\n",
      "3 4\n",
      "1 4\n",
      "2 2\n",
      "3 4 1 2 5 "
     ]
    }
   ],
   "source": [
    "N, M = map(int, input().split())\n",
    "basket = []\n",
    "array = []\n",
    "\n",
    "for a in range(N):\n",
    "    basket.append(a + 1)\n",
    "\n",
    "for b in range(M):\n",
    "    i, j = map(int, input().split())\n",
    "    array = reversed(basket[i - 1:j])\n",
    "    basket[i - 1:j] = array\n",
    "    \n",
    "for c in range(N):\n",
    "    print(basket[c], end = ' ')"
   ]
  },
  {
   "cell_type": "code",
   "execution_count": 24,
   "id": "82f36fe1",
   "metadata": {},
   "outputs": [
    {
     "name": "stdout",
     "output_type": "stream",
     "text": [
      "9\n",
      "10 20 30 40 50 60 70 80 90\n",
      "55.55555555555556\n"
     ]
    }
   ],
   "source": [
    "N = int(input())\n",
    "score = map(int, input().split())\n",
    "score = list(score)\n",
    "M = max(score)\n",
    "\n",
    "for i in range(N):\n",
    "    score[i] = score[i] / M * 100\n",
    "\n",
    "print(sum(score)/N)"
   ]
  },
  {
   "cell_type": "code",
   "execution_count": null,
   "id": "3a105ce2",
   "metadata": {},
   "outputs": [],
   "source": []
  }
 ],
 "metadata": {
  "kernelspec": {
   "display_name": "Python 3 (ipykernel)",
   "language": "python",
   "name": "python3"
  },
  "language_info": {
   "codemirror_mode": {
    "name": "ipython",
    "version": 3
   },
   "file_extension": ".py",
   "mimetype": "text/x-python",
   "name": "python",
   "nbconvert_exporter": "python",
   "pygments_lexer": "ipython3",
   "version": "3.9.12"
  }
 },
 "nbformat": 4,
 "nbformat_minor": 5
}
