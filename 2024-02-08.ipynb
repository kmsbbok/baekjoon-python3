{
 "cells": [
  {
   "cell_type": "code",
   "execution_count": 39,
   "id": "c681ca02",
   "metadata": {},
   "outputs": [
    {
     "name": "stdout",
     "output_type": "stream",
     "text": [
      "baaa\n",
      "A\n"
     ]
    }
   ],
   "source": [
    "from collections import Counter\n",
    "\n",
    "word = input()\n",
    "word = word.upper()\n",
    "counter = Counter(word)\n",
    "counter_sort = counter.most_common()\n",
    "result = []\n",
    "\n",
    "for i in range(len(counter_sort)):\n",
    "        \n",
    "    if counter_sort[i][1] == counter_sort[0][1]:\n",
    "        result += counter_sort[i][0]\n",
    "\n",
    "if len(result) >= 2:\n",
    "    print('?')\n",
    "\n",
    "else:\n",
    "    print(result[0])"
   ]
  },
  {
   "cell_type": "code",
   "execution_count": 6,
   "id": "32814a46",
   "metadata": {},
   "outputs": [
    {
     "name": "stdout",
     "output_type": "stream",
     "text": [
      "dz=ak\n",
      "3\n"
     ]
    }
   ],
   "source": [
    "import re\n",
    "word = input()\n",
    "\n",
    "for i in range(len(word)):\n",
    "\n",
    "    if 'c=' in word:\n",
    "        word = re.sub(r'c=', '.', word)\n",
    "\n",
    "    elif 'c-' in word:\n",
    "        word = re.sub(r'c-', '.', word)\n",
    "    \n",
    "    elif 'dz=' in word:\n",
    "        word = re.sub(r'dz=', '.', word)\n",
    "    \n",
    "    elif 'd-' in word:\n",
    "        word = re.sub(r'd-', '.', word)\n",
    "    \n",
    "    elif 'lj' in word:\n",
    "        word = re.sub(r'lj', '.', word)\n",
    "    \n",
    "    elif 'nj' in word:\n",
    "        word = re.sub(r'nj', '.', word)\n",
    "    \n",
    "    elif 's=' in word:\n",
    "        word = re.sub(r's=', '.', word)\n",
    "    \n",
    "    elif 'z=' in word:\n",
    "        word = re.sub(r'z=', '.', word)\n",
    "\n",
    "print(len(word))"
   ]
  }
 ],
 "metadata": {
  "kernelspec": {
   "display_name": "Python 3 (ipykernel)",
   "language": "python",
   "name": "python3"
  },
  "language_info": {
   "codemirror_mode": {
    "name": "ipython",
    "version": 3
   },
   "file_extension": ".py",
   "mimetype": "text/x-python",
   "name": "python",
   "nbconvert_exporter": "python",
   "pygments_lexer": "ipython3",
   "version": "3.9.12"
  }
 },
 "nbformat": 4,
 "nbformat_minor": 5
}
